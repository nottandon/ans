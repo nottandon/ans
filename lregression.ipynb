{
 "cells": [
  {
   "cell_type": "code",
   "execution_count": 72,
   "metadata": {},
   "outputs": [],
   "source": [
    "import numpy as np\n",
    "import pandas as pd"
   ]
  },
  {
   "cell_type": "code",
   "execution_count": 73,
   "metadata": {},
   "outputs": [],
   "source": [
    "a=pd.read_csv('Housing.csv')"
   ]
  },
  {
   "cell_type": "code",
   "execution_count": 74,
   "metadata": {},
   "outputs": [
    {
     "name": "stderr",
     "output_type": "stream",
     "text": [
      "C:\\Users\\Shreyansh\\AppData\\Local\\Temp\\ipykernel_16732\\2611542607.py:10: DeprecationWarning: In a future version, `df.iloc[:, i] = newvals` will attempt to set the values inplace instead of always setting a new array. To retain the old behavior, use either `df[df.columns[i]] = newvals` or, if columns are non-unique, `df.isetitem(i, newvals)`\n",
      "  a.iloc[:,x]=a.iloc[:,x].map(conversion)\n",
      "C:\\Users\\Shreyansh\\AppData\\Local\\Temp\\ipykernel_16732\\2611542607.py:11: DeprecationWarning: In a future version, `df.iloc[:, i] = newvals` will attempt to set the values inplace instead of always setting a new array. To retain the old behavior, use either `df[df.columns[i]] = newvals` or, if columns are non-unique, `df.isetitem(i, newvals)`\n",
      "  a.iloc[:,12]=a.iloc[:,12].map(conv)\n"
     ]
    }
   ],
   "source": [
    "def conversion(x) :\n",
    "    if x == \"yes\" : return 1\n",
    "    elif x==\"no\" : return 0\n",
    "def conv(x) :\n",
    "    if x==\"furnished\" : return 1\n",
    "    elif  x==\"semi-furnished\" : return 0.5\n",
    "    elif x==\"unfurnished\" : return 0\n",
    "for x in range(12) :\n",
    "    if np.dtype(a.iloc[:,x])==object :\n",
    "        a.iloc[:,x]=a.iloc[:,x].map(conversion)\n",
    "a.iloc[:,12]=a.iloc[:,12].map(conv)"
   ]
  },
  {
   "cell_type": "code",
   "execution_count": 75,
   "metadata": {},
   "outputs": [],
   "source": [
    "def feature(f) :\n",
    "    d=f.drop((\"price\"),axis=1)\n",
    "    d.insert(0,\"constant\",1)\n",
    "    return d\n",
    "def response(f) :\n",
    "    return pd.DataFrame(f.price)\n",
    "def coefficients() :\n",
    "    x=feature(a)\n",
    "    y=response(a)\n",
    "    x=x.to_numpy()\n",
    "    y=y.to_numpy()\n",
    "    xt=x.transpose()\n",
    "    xi=np.matmul(xt,x)\n",
    "    xi=np.linalg.inv(xi)\n",
    "    res=np.matmul(xi,xt)\n",
    "    res=np.matmul(res,y)\n",
    "    return res"
   ]
  },
  {
   "cell_type": "code",
   "execution_count": 76,
   "metadata": {},
   "outputs": [
    {
     "name": "stdout",
     "output_type": "stream",
     "text": [
      "1117238565479.8242\n"
     ]
    }
   ],
   "source": [
    "def cost(c) :\n",
    "    x=feature(a)\n",
    "    x=x.to_numpy()\n",
    "    res=np.matmul(x,c)\n",
    "    cos=pd.DataFrame(a.price)\n",
    "    cos=cos.to_numpy()\n",
    "    costf=np.sum((cos-res)**2)\n",
    "    costf=costf/545\n",
    "    return costf\n",
    "print(cost(coefficients()))"
   ]
  },
  {
   "cell_type": "code",
   "execution_count": 77,
   "metadata": {},
   "outputs": [
    {
     "name": "stdout",
     "output_type": "stream",
     "text": [
      "1118284398508.8203\n"
     ]
    }
   ],
   "source": [
    "def gradient(itr,rate) :\n",
    "    c=coefficients()\n",
    "    x=feature(a)\n",
    "    y=response(a)\n",
    "    x=x.to_numpy()\n",
    "    y=y.to_numpy()\n",
    "    res=np.matmul(x,c)\n",
    "    cos=pd.DataFrame(a.price)\n",
    "    cos=cos.to_numpy()\n",
    "    for i in range(itr):\n",
    "        for j in range(13) :\n",
    "            c[j,0]=c[j,0]-rate*((1/545)*np.sum((cos-res)*x[:,j]))\n",
    "    print(cost(c))\n",
    "gradient(1000,0.1)\n",
    "            "
   ]
  }
 ],
 "metadata": {
  "kernelspec": {
   "display_name": "Python 3",
   "language": "python",
   "name": "python3"
  },
  "language_info": {
   "codemirror_mode": {
    "name": "ipython",
    "version": 3
   },
   "file_extension": ".py",
   "mimetype": "text/x-python",
   "name": "python",
   "nbconvert_exporter": "python",
   "pygments_lexer": "ipython3",
   "version": "3.11.1"
  },
  "orig_nbformat": 4,
  "vscode": {
   "interpreter": {
    "hash": "8e9b8c7cd68900a215bb345b1f0238c0bffeaac7543e2a7d18be651a4f8734ea"
   }
  }
 },
 "nbformat": 4,
 "nbformat_minor": 2
}
